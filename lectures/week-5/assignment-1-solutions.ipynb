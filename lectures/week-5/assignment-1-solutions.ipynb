{
 "cells": [
  {
   "cell_type": "markdown",
   "metadata": {},
   "source": [
    "# Task 1\n",
    "\n",
    "Write a Python program that prompts the user to input values for both the length and breadth\n",
    "of a shape, and then determines whether the shape formed is a square or a rectangle based on\n",
    "the provided dimensions\n"
   ]
  },
  {
   "cell_type": "code",
   "execution_count": 2,
   "metadata": {},
   "outputs": [
    {
     "name": "stdout",
     "output_type": "stream",
     "text": [
      "The shape is Square\n"
     ]
    }
   ],
   "source": [
    "user_input_breadth = int(input(\"Please enter breadth of the shape\"))\n",
    "user_input_length = int(input(\"Please enter length of the shape\"))\n",
    "\n",
    "if user_input_breadth == user_input_length:\n",
    "    print(\"The shape is Square\")\n",
    "else:\n",
    "    print(\"The shape is Rectangle\")"
   ]
  },
  {
   "cell_type": "markdown",
   "metadata": {},
   "source": [
    "# Task 2\n",
    "Also calculate the Perimeter and Area of the Shape."
   ]
  },
  {
   "cell_type": "code",
   "execution_count": 5,
   "metadata": {},
   "outputs": [
    {
     "name": "stdout",
     "output_type": "stream",
     "text": [
      "The shape Rectangle has Perimeter:  22 and Area:  30\n"
     ]
    }
   ],
   "source": [
    "user_input_breadth = int(input(\"Please enter breadth of the shape\"))\n",
    "user_input_length = int(input(\"Please enter length of the shape\"))\n",
    "\n",
    "if user_input_breadth == user_input_length:\n",
    "    square_area = user_input_breadth ^ 2\n",
    "    square_perim = 4 * user_input_breadth\n",
    "    print(\"The shape Square has Perimeter:\", square_perim,  \"and Area: \", square_area )\n",
    "else:\n",
    "    rectangle_area = user_input_breadth * user_input_length\n",
    "    rectangle_perim = 2 * (user_input_breadth + user_input_length)\n",
    "    print(\"The shape Rectangle has Perimeter: \", rectangle_perim,  \"and Area: \", rectangle_area)\n"
   ]
  },
  {
   "cell_type": "markdown",
   "metadata": {},
   "source": [
    "# Task 3 \n",
    "The faculty list for Upcode Lab is as follows:\n",
    "faculty = [“Uzair”, “Ali”, “Samad”, “Usman”, “Saifullah”] ."
   ]
  },
  {
   "cell_type": "markdown",
   "metadata": {},
   "source": [
    "The goal is to create a new list named “Cofounders” and move the names “Usman” and “Saifullah” into it from the “faculty” list. Simultaneously, remove these names from the “faculty”\n",
    "list.\n"
   ]
  },
  {
   "cell_type": "code",
   "execution_count": 14,
   "metadata": {},
   "outputs": [
    {
     "name": "stdout",
     "output_type": "stream",
     "text": [
      "['Usman', 'Saifullah']\n",
      "['Uzair', 'Ali', 'Samad']\n"
     ]
    }
   ],
   "source": [
    "faculty = [\"Uzair\", \"Ali\", \"Samad\", \"Usman\", \"Saifullah\"]\n",
    "\n",
    "Cofounders = []\n",
    "Cofounders.insert(0, faculty.pop(3))\n",
    "Cofounders.insert(1, faculty.pop(3))\n",
    "print(Cofounders)\n",
    "print(faculty)"
   ]
  },
  {
   "cell_type": "markdown",
   "metadata": {},
   "source": [
    "# Task 4\n",
    "An error has been spotted in the faculty list. “Ali” should be corrected to “Umair.”  "
   ]
  },
  {
   "cell_type": "code",
   "execution_count": 20,
   "metadata": {},
   "outputs": [
    {
     "name": "stdout",
     "output_type": "stream",
     "text": [
      "['Uzair', 'Umair', 'Samad', 'Usman', 'Saifullah']\n"
     ]
    }
   ],
   "source": [
    "faculty = [\"Uzair\", \"Ali\", \"Samad\", \"Usman\", \"Saifullah\"]\n",
    "\n",
    "# Remove \"Ali\" from the list\n",
    "faculty.remove(\"Ali\")\n",
    "\n",
    "# Insert \"Umair\" to the list\n",
    "faculty.insert(1, \"Umair\")\n",
    "\n",
    "print(faculty)"
   ]
  }
 ],
 "metadata": {
  "kernelspec": {
   "display_name": "Python 3",
   "language": "python",
   "name": "python3"
  },
  "language_info": {
   "codemirror_mode": {
    "name": "ipython",
    "version": 3
   },
   "file_extension": ".py",
   "mimetype": "text/x-python",
   "name": "python",
   "nbconvert_exporter": "python",
   "pygments_lexer": "ipython3",
   "version": "3.10.12"
  }
 },
 "nbformat": 4,
 "nbformat_minor": 2
}
