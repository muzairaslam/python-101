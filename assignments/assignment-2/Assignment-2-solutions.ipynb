{
 "cells": [
  {
   "cell_type": "markdown",
   "metadata": {},
   "source": [
    "# Task 1"
   ]
  },
  {
   "cell_type": "markdown",
   "metadata": {},
   "source": [
    "#### Write a Python function sum_list that returns the sum all the numbers in a list. \n",
    "#### Input: [8, 2, 3, 0, 7]\n",
    "#### Output: 20"
   ]
  },
  {
   "cell_type": "code",
   "execution_count": 4,
   "metadata": {},
   "outputs": [
    {
     "data": {
      "text/plain": [
       "20"
      ]
     },
     "execution_count": 4,
     "metadata": {},
     "output_type": "execute_result"
    }
   ],
   "source": [
    "# defining function\n",
    "def sum_list(list_input):\n",
    "    sum = 0\n",
    "    for i in list_input:\n",
    "        sum += i\n",
    "    return sum\n",
    "\n",
    "# calling function\n",
    "array = [8, 2, 3, 0, 7]\n",
    "sum_list(array)"
   ]
  },
  {
   "cell_type": "markdown",
   "metadata": {},
   "source": [
    "# Task 2"
   ]
  },
  {
   "cell_type": "markdown",
   "metadata": {},
   "source": [
    "#### Write a Python function test_prime that takes a number as a parameter and checks whether the number is prime or not.\n",
    "#### Input 1: 7\n",
    "#### Output 1: True\n",
    "#### Input 2: 10\n",
    "#### Output 2: False"
   ]
  },
  {
   "cell_type": "code",
   "execution_count": 16,
   "metadata": {},
   "outputs": [
    {
     "name": "stdout",
     "output_type": "stream",
     "text": [
      "True\n",
      "False\n",
      "True\n"
     ]
    }
   ],
   "source": [
    "# defining function\n",
    "def test_prime(number):\n",
    "    count = 0\n",
    "    for i in range(2, number + 1):\n",
    "        if number % i == 0:\n",
    "            count += 1  \n",
    "    if count > 1:\n",
    "        print(False)\n",
    "    else:\n",
    "        print(True)\n",
    "\n",
    "# calling function\n",
    "test_prime(7)\n",
    "test_prime(10)\n",
    "test_prime(859)                 "
   ]
  },
  {
   "cell_type": "markdown",
   "metadata": {},
   "source": [
    "# Task 3"
   ]
  },
  {
   "cell_type": "markdown",
   "metadata": {},
   "source": [
    "#### Write a Python function is_even_num that accepts a list and returns another list with numbers from a given list.\n",
    "#### Input: [1, 2, 3, 4, 5, 6, 7, 8, 9, 10]\n",
    "#### Output: [2, 4, 6, 8, 10]"
   ]
  },
  {
   "cell_type": "code",
   "execution_count": 3,
   "metadata": {},
   "outputs": [
    {
     "data": {
      "text/plain": [
       "[2, 4, 6, 8, 10]"
      ]
     },
     "execution_count": 3,
     "metadata": {},
     "output_type": "execute_result"
    }
   ],
   "source": [
    "# defining function\n",
    "def is_even_num(list):\n",
    "    output_list = []\n",
    "    for i in list:\n",
    "        if i % 2 == 0:\n",
    "            output_list.append(i)\n",
    "    return output_list  \n",
    "\n",
    "input_list = [1, 2, 3, 4, 5, 6, 7, 8, 9, 10]\n",
    "\n",
    "# calling function\n",
    "is_even_num(input_list)      "
   ]
  },
  {
   "cell_type": "markdown",
   "metadata": {},
   "source": [
    "# Task 4\n",
    "\n",
    "#### Write a Python program that deletes a list of keys from a dictionary. \n",
    "\n"
   ]
  },
  {
   "cell_type": "markdown",
   "metadata": {},
   "source": [
    "\n",
    "#### Given : sample_dict = \"name\": \"Kelly\", \"age\": 25, \"salary\": 8000, \"city\": \"New york\"\n",
    "\n",
    "#### Keys to remove keys = [\"name\", \"salary\"]\n",
    "\n",
    "#### Expected output: 'age': 25, 'city': 'New york'"
   ]
  },
  {
   "cell_type": "code",
   "execution_count": 11,
   "metadata": {},
   "outputs": [
    {
     "data": {
      "text/plain": [
       "{'age': 25, 'city': 'New york'}"
      ]
     },
     "execution_count": 11,
     "metadata": {},
     "output_type": "execute_result"
    }
   ],
   "source": [
    "# function defintion\n",
    "def remove_keys(dictionary_input, list_input):\n",
    "    for key in list_input:\n",
    "      dictionary_input.pop(key)\n",
    "    return dictionary_input\n",
    "\n",
    "# sample dictionary\n",
    "sample_dict = {\n",
    "   \"name\": \"Kelly\",\n",
    "   \"age\": 25,\n",
    "   \"salary\": 8000,\n",
    "   \"city\": \"New york\"\n",
    "   }\n",
    "\n",
    "# Keys to remove\n",
    "keys = [\"name\", \"salary\"]\n",
    "\n",
    "# calling function\n",
    "remove_keys(sample_dict, keys)"
   ]
  }
 ],
 "metadata": {
  "kernelspec": {
   "display_name": "Python 3",
   "language": "python",
   "name": "python3"
  },
  "language_info": {
   "codemirror_mode": {
    "name": "ipython",
    "version": 3
   },
   "file_extension": ".py",
   "mimetype": "text/x-python",
   "name": "python",
   "nbconvert_exporter": "python",
   "pygments_lexer": "ipython3",
   "version": "3.10.12"
  }
 },
 "nbformat": 4,
 "nbformat_minor": 2
}
